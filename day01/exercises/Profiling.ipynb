{
 "cells": [
  {
   "cell_type": "markdown",
   "metadata": {},
   "source": [
    "## Exercise 1:\n",
    "\n",
    "- Profile the functions above, and explain the output\n",
    "- Propose an optimised version"
   ]
  },
  {
   "cell_type": "code",
   "execution_count": 2,
   "metadata": {},
   "outputs": [],
   "source": [
    "import random\n",
    "def sort_list(n):\n",
    "\t# Generate a list of n random integers\n",
    "\tlst = [random.randint(0, 10000) for _ in range(n)]\n",
    "\t\n",
    "\t# Sort the list\n",
    "\tlst.sort()\n",
    "\t\n",
    "\treturn lst"
   ]
  },
  {
   "cell_type": "code",
   "execution_count": 3,
   "metadata": {},
   "outputs": [],
   "source": [
    "def fibonacci(n):\n",
    "\tif n <= 0:\n",
    "\t\treturn 0\n",
    "\telif n == 1:\n",
    "\t\treturn 1\n",
    "\telse:\n",
    "\t\treturn fibonacci(n-1) + fibonacci(n-2)"
   ]
  },
  {
   "cell_type": "code",
   "execution_count": 4,
   "metadata": {},
   "outputs": [],
   "source": [
    "def bubble_sort(arr):\n",
    "    n = len(arr)\n",
    "    for i in range(n):\n",
    "        for j in range(0, n-i-1):\n",
    "            if arr[j] > arr[j+1] :\n",
    "                arr[j], arr[j+1] = arr[j+1], arr[j]\n"
   ]
  },
  {
   "cell_type": "code",
   "execution_count": 14,
   "metadata": {},
   "outputs": [
    {
     "name": "stdout",
     "output_type": "stream",
     "text": [
      " "
     ]
    },
    {
     "name": "stdout",
     "output_type": "stream",
     "text": [
      "         8663 function calls in 0.013 seconds\n",
      "\n",
      "   Ordered by: cumulative time\n",
      "\n",
      "   ncalls  tottime  percall  cumtime  percall filename:lineno(function)\n",
      "        1    0.000    0.000    0.013    0.013 {built-in method builtins.exec}\n",
      "        1    0.000    0.000    0.013    0.013 <string>:1(<module>)\n",
      "        1    0.000    0.000    0.013    0.013 2153596849.py:2(sort_list)\n",
      "        1    0.002    0.002    0.013    0.013 2153596849.py:4(<listcomp>)\n",
      "     1000    0.001    0.000    0.011    0.000 random.py:358(randint)\n",
      "     1000    0.005    0.000    0.010    0.000 random.py:284(randrange)\n",
      "     1000    0.003    0.000    0.004    0.000 random.py:235(_randbelow_with_getrandbits)\n",
      "     3000    0.001    0.000    0.001    0.000 {built-in method _operator.index}\n",
      "     1657    0.001    0.000    0.001    0.000 {method 'getrandbits' of '_random.Random' objects}\n",
      "     1000    0.000    0.000    0.000    0.000 {method 'bit_length' of 'int' objects}\n",
      "        1    0.000    0.000    0.000    0.000 {method 'sort' of 'list' objects}\n",
      "        1    0.000    0.000    0.000    0.000 {method 'disable' of '_lsprof.Profiler' objects}"
     ]
    }
   ],
   "source": [
    "%prun -s cumulative sort_list(1000)"
   ]
  },
  {
   "cell_type": "code",
   "execution_count": 19,
   "metadata": {},
   "outputs": [
    {
     "name": "stdout",
     "output_type": "stream",
     "text": [
      " "
     ]
    },
    {
     "name": "stdout",
     "output_type": "stream",
     "text": [
      "         21894 function calls (4 primitive calls) in 0.024 seconds\n",
      "\n",
      "   Ordered by: cumulative time\n",
      "\n",
      "   ncalls  tottime  percall  cumtime  percall filename:lineno(function)\n",
      "        1    0.000    0.000    0.024    0.024 {built-in method builtins.exec}\n",
      "        1    0.000    0.000    0.024    0.024 <string>:1(<module>)\n",
      "  21891/1    0.024    0.000    0.024    0.024 1645694111.py:1(fibonacci)\n",
      "        1    0.000    0.000    0.000    0.000 {method 'disable' of '_lsprof.Profiler' objects}"
     ]
    }
   ],
   "source": [
    "%prun -s cumulative fibonacci(20)"
   ]
  },
  {
   "cell_type": "markdown",
   "metadata": {},
   "source": [
    "Updated version"
   ]
  },
  {
   "cell_type": "code",
   "execution_count": 28,
   "metadata": {},
   "outputs": [
    {
     "name": "stdout",
     "output_type": "stream",
     "text": [
      " "
     ]
    },
    {
     "name": "stdout",
     "output_type": "stream",
     "text": [
      "         21 function calls in 0.000 seconds\n",
      "\n",
      "   Ordered by: cumulative time\n",
      "\n",
      "   ncalls  tottime  percall  cumtime  percall filename:lineno(function)\n",
      "        1    0.000    0.000    0.000    0.000 {built-in method builtins.exec}\n",
      "        1    0.000    0.000    0.000    0.000 <string>:1(<module>)\n",
      "        1    0.000    0.000    0.000    0.000 3389692135.py:4(sort_list)\n",
      "        2    0.000    0.000    0.000    0.000 {built-in method numpy.core._multiarray_umath.implement_array_function}\n",
      "        1    0.000    0.000    0.000    0.000 {method 'randint' of 'numpy.random.mtrand.RandomState' objects}\n",
      "        1    0.000    0.000    0.000    0.000 <__array_function__ internals>:177(prod)\n",
      "        1    0.000    0.000    0.000    0.000 <__array_function__ internals>:177(sort)\n",
      "        1    0.000    0.000    0.000    0.000 fromnumeric.py:878(sort)\n",
      "        1    0.000    0.000    0.000    0.000 fromnumeric.py:2955(prod)\n",
      "        1    0.000    0.000    0.000    0.000 fromnumeric.py:69(_wrapreduction)\n",
      "        1    0.000    0.000    0.000    0.000 {method 'sort' of 'numpy.ndarray' objects}\n",
      "        1    0.000    0.000    0.000    0.000 {method 'reduce' of 'numpy.ufunc' objects}\n",
      "        1    0.000    0.000    0.000    0.000 {built-in method builtins.getattr}\n",
      "        1    0.000    0.000    0.000    0.000 {method 'copy' of 'numpy.ndarray' objects}\n",
      "        1    0.000    0.000    0.000    0.000 fromnumeric.py:70(<dictcomp>)\n",
      "        1    0.000    0.000    0.000    0.000 {method 'items' of 'dict' objects}\n",
      "        1    0.000    0.000    0.000    0.000 {method 'disable' of '_lsprof.Profiler' objects}\n",
      "        1    0.000    0.000    0.000    0.000 {built-in method numpy.asanyarray}\n",
      "        1    0.000    0.000    0.000    0.000 fromnumeric.py:2950(_prod_dispatcher)\n",
      "        1    0.000    0.000    0.000    0.000 fromnumeric.py:874(_sort_dispatcher)"
     ]
    }
   ],
   "source": [
    "\n",
    "import numpy as np\n",
    "\n",
    "\n",
    "def sort_list(n):\n",
    "    random_array = np.random.randint(1,100, size=n)\n",
    "    arr=np.sort(random_array)\n",
    "    return arr\n",
    "\n",
    "%prun -s cumulative sort_list(1000)"
   ]
  },
  {
   "cell_type": "markdown",
   "metadata": {},
   "source": [
    "## Exercise 2:\n",
    "\n",
    "- Profile the memory of the functions above\n",
    "- Propose an optimised version"
   ]
  },
  {
   "cell_type": "code",
   "execution_count": 23,
   "metadata": {},
   "outputs": [
    {
     "name": "stdout",
     "output_type": "stream",
     "text": [
      "Writing large_list.py\n"
     ]
    }
   ],
   "source": [
    "%%file large_list.py\n",
    "\n",
    "def create_large_list(n):\n",
    "    return list(range(n))"
   ]
  },
  {
   "cell_type": "code",
   "execution_count": 24,
   "metadata": {},
   "outputs": [
    {
     "name": "stdout",
     "output_type": "stream",
     "text": [
      "The memory_profiler extension is already loaded. To reload it, use:\n",
      "  %reload_ext memory_profiler\n"
     ]
    }
   ],
   "source": [
    "%load_ext memory_profiler"
   ]
  },
  {
   "cell_type": "code",
   "execution_count": 26,
   "metadata": {},
   "outputs": [
    {
     "name": "stdout",
     "output_type": "stream",
     "text": [
      "\n"
     ]
    },
    {
     "data": {
      "text/plain": [
       "Filename: /home/kissami/Documents/GITHUB/Advanced-Python-LSD/day01/exercises/large_list.py\n",
       "\n",
       "Line #    Mem usage    Increment  Occurrences   Line Contents\n",
       "=============================================================\n",
       "     2     50.0 MiB     50.0 MiB           1   def create_large_list(n):\n",
       "     3   3914.4 MiB   3864.3 MiB           1       return list(range(n))"
      ]
     },
     "metadata": {},
     "output_type": "display_data"
    }
   ],
   "source": [
    "from large_list import create_large_list\n",
    "%mprun -f create_large_list create_large_list(10**8)"
   ]
  },
  {
   "cell_type": "code",
   "execution_count": 1,
   "metadata": {},
   "outputs": [
    {
     "name": "stdout",
     "output_type": "stream",
     "text": [
      "Overwriting large_list.py\n"
     ]
    }
   ],
   "source": [
    "%%file large_list.py\n",
    "\n",
    "def memory_hungry_function_with_lists():\n",
    "    big_list = [[[1 for _ in range(100)] for _ in range(100)] for _ in range(100)]  # Creating a large nested list\n",
    "    result = sum(sum(sum(sublist) for sublist in inner_list) for inner_list in big_list)  # Performing a memory-intensive operation on the list\n",
    "    return result"
   ]
  },
  {
   "cell_type": "code",
   "execution_count": 2,
   "metadata": {},
   "outputs": [],
   "source": [
    "%load_ext memory_profiler"
   ]
  },
  {
   "cell_type": "code",
   "execution_count": 3,
   "metadata": {},
   "outputs": [
    {
     "name": "stdout",
     "output_type": "stream",
     "text": [
      "\n"
     ]
    },
    {
     "data": {
      "text/plain": [
       "Filename: /home/kissami/Documents/GITHUB/Advanced-Python-LSD/day01/exercises/large_list.py\n",
       "\n",
       "Line #    Mem usage    Increment  Occurrences   Line Contents\n",
       "=============================================================\n",
       "     2     48.3 MiB     48.3 MiB           1   def memory_hungry_function_with_lists():\n",
       "     3     57.2 MiB      8.9 MiB     1030303       big_list = [[[1 for _ in range(100)] for _ in range(100)] for _ in range(100)]  # Creating a large nested list\n",
       "     4     57.2 MiB      0.0 MiB       20403       result = sum(sum(sum(sublist) for sublist in inner_list) for inner_list in big_list)  # Performing a memory-intensive operation on the list\n",
       "     5     57.2 MiB      0.0 MiB           1       return result"
      ]
     },
     "metadata": {},
     "output_type": "display_data"
    }
   ],
   "source": [
    "from large_list import memory_hungry_function_with_lists\n",
    "%mprun -f memory_hungry_function_with_lists memory_hungry_function_with_lists()"
   ]
  },
  {
   "cell_type": "code",
   "execution_count": 1,
   "metadata": {},
   "outputs": [
    {
     "name": "stdout",
     "output_type": "stream",
     "text": [
      "Overwriting large_list.py\n"
     ]
    }
   ],
   "source": [
    "%%file large_list.py\n",
    "\n",
    "def optimized_memory_function_with_lists():\n",
    "    chunk_size = 100  # Define a chunk size\n",
    "    total_sum = 0\n",
    "\n",
    "    for _ in range(10):  # Process 10 chunks\n",
    "        chunk = [[[1 for _ in range(chunk_size)] for _ in range(chunk_size)] for _ in range(chunk_size)]\n",
    "        chunk_sum = sum(sum(sum(sublist) for sublist in inner_list) for inner_list in chunk)\n",
    "        total_sum += chunk_sum\n",
    "\n",
    "    return total_sum\n"
   ]
  },
  {
   "cell_type": "code",
   "execution_count": 2,
   "metadata": {},
   "outputs": [],
   "source": [
    "%load_ext memory_profiler"
   ]
  },
  {
   "cell_type": "code",
   "execution_count": 3,
   "metadata": {},
   "outputs": [
    {
     "name": "stdout",
     "output_type": "stream",
     "text": [
      "*** KeyboardInterrupt exception caught in code being profiled.\n"
     ]
    },
    {
     "data": {
      "text/plain": [
       "Filename: /home/kissami/Documents/GITHUB/Advanced-Python-LSD/day01/exercises/large_list.py\n",
       "\n",
       "Line #    Mem usage    Increment  Occurrences   Line Contents\n",
       "=============================================================\n",
       "     2     48.1 MiB     48.1 MiB           1   def optimized_memory_function_with_lists():\n",
       "     3     48.1 MiB      0.0 MiB           1       chunk_size = 100  # Define a chunk size\n",
       "     4     48.1 MiB      0.0 MiB           1       total_sum = 0\n",
       "     5                                         \n",
       "     6     48.1 MiB      0.0 MiB           1       for _ in range(10):  # Process 10 chunks\n",
       "     7     53.6 MiB   -346.7 MiB      656585           chunk = [[[1 for _ in range(chunk_size)] for _ in range(chunk_size)] for _ in range(chunk_size)]\n",
       "     8                                                 chunk_sum = sum(sum(sum(sublist) for sublist in inner_list) for inner_list in chunk)\n",
       "     9                                                 total_sum += chunk_sum\n",
       "    10                                         \n",
       "    11                                             return total_sum"
      ]
     },
     "metadata": {},
     "output_type": "display_data"
    }
   ],
   "source": [
    "from large_list import optimized_memory_function_with_lists\n",
    "%mprun -f optimized_memory_function_with_lists optimized_memory_function_with_lists()"
   ]
  },
  {
   "cell_type": "code",
   "execution_count": null,
   "metadata": {},
   "outputs": [],
   "source": []
  }
 ],
 "metadata": {
  "kernelspec": {
   "display_name": "Python 3",
   "language": "python",
   "name": "python3"
  },
  "language_info": {
   "codemirror_mode": {
    "name": "ipython",
    "version": 3
   },
   "file_extension": ".py",
   "mimetype": "text/x-python",
   "name": "python",
   "nbconvert_exporter": "python",
   "pygments_lexer": "ipython3",
   "version": "3.11.6"
  }
 },
 "nbformat": 4,
 "nbformat_minor": 4
}
